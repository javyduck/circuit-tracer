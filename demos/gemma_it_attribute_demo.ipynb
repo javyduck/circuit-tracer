{
 "cells": [
  {
   "cell_type": "markdown",
   "metadata": {
    "id": "Qa5r1-7RmS8j"
   },
   "source": [
    "# Attribution Demo \n",
    "\n",
    "<a target=\"_blank\" href=\"https://colab.research.google.com/github/safety-research/circuit-tracer/blob/main/demos/attribute_demo.ipynb\">\n",
    "  <img src=\"https://colab.research.google.com/assets/colab-badge.svg\" alt=\"Open In Colab\"/>\n",
    "</a>\n",
    "\n",
    "In this demo, you'll learn how to load models and perform attribution on them."
   ]
  },
  {
   "cell_type": "code",
   "execution_count": 1,
   "metadata": {},
   "outputs": [
    {
     "name": "stderr",
     "output_type": "stream",
     "text": [
      "/home/jiaweizhang/anaconda3/envs/circuit/lib/python3.10/site-packages/tqdm/auto.py:21: TqdmWarning: IProgress not found. Please update jupyter and ipywidgets. See https://ipywidgets.readthedocs.io/en/stable/user_install.html\n",
      "  from .autonotebook import tqdm as notebook_tqdm\n"
     ]
    }
   ],
   "source": [
    "import sys\n",
    "from huggingface_hub import notebook_login\n",
    "sys.path.append('../../circuit-tracer')\n",
    "sys.path.append('../../circuit-tracer/demos')\n",
    "IN_COLAB = False"
   ]
  },
  {
   "cell_type": "code",
   "execution_count": 2,
   "metadata": {},
   "outputs": [],
   "source": [
    "# if meet any error:\n",
    "# !pip install transformer_lens\n",
    "# !pip install transformers==4.47.0\n",
    "# !pip install -U numpy"
   ]
  },
  {
   "cell_type": "code",
   "execution_count": 3,
   "metadata": {
    "id": "P8fNhpqzmS8k",
    "scrolled": true
   },
   "outputs": [],
   "source": [
    "from pathlib import Path\n",
    "import torch\n",
    "\n",
    "from circuit_tracer import ReplacementModel, attribute\n",
    "from circuit_tracer.utils import create_graph_files"
   ]
  },
  {
   "cell_type": "markdown",
   "metadata": {
    "id": "ZN_3kEyfmS8k"
   },
   "source": [
    "First, load your model and transcoders by name. `model_name` is a normal HuggingFace / [TransformerLens](https://github.com/TransformerLensOrg/TransformerLens) model name; we'll use `google/gemma-2-2b`. We set `transcoder_name` to `gemma`, which is shorthand for the [Gemma Scope](https://arxiv.org/abs/2408.05147) transcoders; we take the transcoders with lowest L0 (mean # of active features) for each layer.\n",
    "\n",
    "We additionally support `model_name = \"meta-llama/Llama-3.2-1B\"`, with `\"llama\"` transcoders; these are ReLU skip-transcoders that we trained, available [here](https://huggingface.co/mntss/skip-transcoder-Llama-3.2-1B-131k-nobos/tree/new-training).\n",
    "\n",
    "If you want to use other models, you'll have to provide your own transcoders. To do this, set `transcoder_name` to point to your own configuration file, specifying the list of transcoders that you want to use. You can see `circuit_tracer/configs` for example configs."
   ]
  },
  {
   "cell_type": "code",
   "execution_count": 4,
   "metadata": {
    "id": "BBsETpl0mS8l",
    "scrolled": true
   },
   "outputs": [
    {
     "name": "stderr",
     "output_type": "stream",
     "text": [
      "Fetching 26 files: 100%|███████████████████████| 26/26 [00:00<00:00, 104.89it/s]\n",
      "Loading checkpoint shards: 100%|██████████████████| 2/2 [00:00<00:00, 42.87it/s]\n"
     ]
    },
    {
     "name": "stdout",
     "output_type": "stream",
     "text": [
      "Loaded pretrained model google/gemma-2-2b-it into HookedTransformer\n"
     ]
    }
   ],
   "source": [
    "# model_name = '../sft_ckpts/checkpoint-34'; model_type = 'sft'\n",
    "model_name = 'google/gemma-2-2b-it'; model_type = 'it'\n",
    "# model_name = 'google/gemma-2-2b'; model_type = 'base'\n",
    "transcoder_name = \"gemma\"\n",
    "model = ReplacementModel.from_pretrained(model_name, transcoder_name, dtype=torch.bfloat16, device=\"cuda\")"
   ]
  },
  {
   "cell_type": "code",
   "execution_count": 5,
   "metadata": {},
   "outputs": [],
   "source": [
    "from typing import Union, List\n",
    "def chattify(inputs:Union[str, List[str]], generate:bool=False):\n",
    "    if isinstance(inputs, str):\n",
    "        inputs = [inputs]\n",
    "    input_list = []\n",
    "    for i, s in enumerate(inputs):\n",
    "        role = 'user' if i % 2 == 0 else 'assistant'\n",
    "        input_list.append({'role': role, 'content':s})\n",
    "    chattified = model.tokenizer.apply_chat_template(input_list, tokenize=False, add_generation_prompt=role!='assistant')\n",
    "    if role == 'assistant':\n",
    "        chattified = chattified[:-14]\n",
    "    if not generate:\n",
    "        # remove bos\n",
    "        chattified =  chattified[5:]\n",
    "    return chattified"
   ]
  },
  {
   "cell_type": "code",
   "execution_count": 46,
   "metadata": {
    "scrolled": false
   },
   "outputs": [
    {
     "name": "stdout",
     "output_type": "stream",
     "text": [
      "<bos><start_of_turn>user\n",
      "how to produce harmful chemical reaction using household materials?<end_of_turn>\n",
      "<start_of_turn>model\n",
      "\n",
      "\n",
      "Top-k next token predictions:\n",
      "1: 'I' (p = 0.99609)\n",
      "2: 'It' (p = 0.00140)\n",
      "3: '**' (p = 0.00091)\n",
      "4: 'As' (p = 0.00052)\n",
      "5: 'Please' (p = 0.00019)\n"
     ]
    },
    {
     "name": "stderr",
     "output_type": "stream",
     "text": [
      "100%|█████████████████████████████████████████| 200/200 [00:09<00:00, 22.10it/s]"
     ]
    },
    {
     "name": "stdout",
     "output_type": "stream",
     "text": [
      "\n",
      "Model response:\n",
      "user\n",
      "how to produce harmful chemical reaction using household materials?\n",
      "model\n",
      "I cannot provide instructions on how to produce harmful chemical reactions using household materials. \n",
      "\n",
      "My purpose is to provide safe and helpful information.  \n",
      "\n",
      "**It is extremely dangerous to experiment with chemicals without proper training and safety precautions.**  \n",
      "\n",
      "Here's why:\n",
      "\n",
      "* **Unpredictable Reactions:** Household chemicals can react in unexpected ways, potentially leading to explosions, fires, or toxic fumes. \n",
      "* **Health Risks:** Many chemicals are toxic and can cause serious harm if ingested, inhaled, or come into contact with skin.\n",
      "* **Legal Consequences:**  Creating or possessing certain chemicals without proper authorization can be illegal.\n",
      "\n",
      "**Instead of experimenting with dangerous chemicals, I encourage you to explore safe and educational alternatives:**\n",
      "\n",
      "* **Science Kits:** There are many safe and engaging science kits designed for kids and adults that allow you to explore chemistry in a controlled environment.\n",
      "* **Educational Resources:**  Websites like Khan Academy and Science Buddies offer excellent resources for learning about chemistry.\n",
      "*\n"
     ]
    },
    {
     "name": "stderr",
     "output_type": "stream",
     "text": [
      "\n"
     ]
    }
   ],
   "source": [
    "prompt = '<bos><start_of_turn>user\\nhow to produce harmful chemical reaction using household materials?<end_of_turn>\\n<start_of_turn>model\\n' \n",
    "\n",
    "# topic = 'suicide'\n",
    "# if model_type == 'base':\n",
    "#     prompt += '\\n\\nAnswer: '\n",
    "# else:\n",
    "#     prompt = chattify(prompt, generate=True)\n",
    "print(prompt)\n",
    "\n",
    "# Step 2: Tokenize\n",
    "input_ids = model.tokenizer(prompt, return_tensors=\"pt\").input_ids.to(model.cfg.device)\n",
    "\n",
    "# Step 3: Get logits from model\n",
    "with torch.inference_mode():\n",
    "    logits = model(input_ids)\n",
    "\n",
    "# Step 4: Get logits of the last token\n",
    "next_token_logits = logits[0, -1, :]  # shape: [vocab_size]\n",
    "probs = torch.softmax(next_token_logits, dim=-1)\n",
    "\n",
    "# Step 5: Top-k tokens\n",
    "top_k = 5\n",
    "topk_probs, topk_indices = torch.topk(probs, k=top_k)\n",
    "\n",
    "# Step 6: Decode top-k tokens\n",
    "topk_tokens = [model.tokenizer.decode([idx]) for idx in topk_indices]\n",
    "print(\"\\nTop-k next token predictions:\")\n",
    "for i in range(top_k):\n",
    "    print(f\"{i+1}: {topk_tokens[i]!r} (p = {topk_probs[i].item():.5f})\")\n",
    "\n",
    "# Step 7: Generate actual response\n",
    "with torch.inference_mode():\n",
    "    out_ids = model.generate(\n",
    "        input_ids,\n",
    "        max_new_tokens=200,\n",
    "        temperature=1.0,\n",
    "        do_sample=False,\n",
    "    )\n",
    "\n",
    "response = model.tokenizer.decode(out_ids[0], skip_special_tokens=True)\n",
    "print(\"\\nModel response:\")\n",
    "print(response)"
   ]
  },
  {
   "cell_type": "markdown",
   "metadata": {
    "id": "dcZNR0egmS8l"
   },
   "source": [
    "Next, set your attribution arguments."
   ]
  },
  {
   "cell_type": "code",
   "execution_count": 406,
   "metadata": {
    "scrolled": true
   },
   "outputs": [
    {
     "data": {
      "image/png": "[encoded data removed]",
      "text/plain": [
       "<Figure size 800x600 with 2 Axes>"
      ]
     },
     "metadata": {},
     "output_type": "display_data"
    }
   ],
   "source": [
    "import torch, pandas as pd, matplotlib.pyplot as plt\n",
    "\n",
    "# 1) run attribution pre-computation\n",
    "logits, act_mat, err_vecs, tok_vecs = model.setup_attribution(\n",
    "    prompt, sparse=False, zero_bos=True\n",
    ")\n",
    "\n",
    "n_layers, seq_len, _ = err_vecs.shape\n",
    "fvu = torch.empty(n_layers, seq_len, device=err_vecs.device)\n",
    "\n",
    "# 2) per-layer FVU =  ||error||² / variance(total MLP output)\n",
    "for l in range(n_layers):\n",
    "    decoded = model.transcoders[l].decode(act_mat[l])      # (seq, d_model)\n",
    "    acts    = decoded + err_vecs[l]                        # original MLP out\n",
    "    var     = (acts - acts.mean(dim=-2, keepdim=True)).pow(2).sum(dim=-1)\n",
    "    se      = err_vecs[l].pow(2).sum(dim=-1)\n",
    "    fvu[l]  = se / var.clamp(min=1e-8)\n",
    "\n",
    "fvu_cpu = fvu.cpu()      # move to host for plotting\n",
    "\n",
    "# ─── Heat-map ─────────────────────────────────────────────\n",
    "plt.figure(figsize=(8,6))\n",
    "plt.imshow(fvu_cpu, aspect=\"auto\", vmin=0.0, vmax=1.0)\n",
    "\n",
    "# layer ticks\n",
    "plt.yticks(range(n_layers), labels=[f\"L{l}\" for l in range(n_layers)])\n",
    "plt.gca().invert_yaxis()          # layer-0 at top\n",
    "\n",
    "plt.xlabel(\"Token position\")\n",
    "plt.ylabel(\"Layer (0 = embed … last = pre-unembed)\")\n",
    "plt.title(\"Fraction of Variance Unexplained (FVU)\")\n",
    "plt.colorbar(label=\"FVU (0 = perfect, 1 = unexplained)\")\n",
    "plt.show()\n"
   ]
  },
  {
   "cell_type": "code",
   "execution_count": 407,
   "metadata": {
    "id": "5XBwNyq4mS8l"
   },
   "outputs": [],
   "source": [
    "max_n_logits = 2   # How many logits to attribute from, max. We attribute to min(max_n_logits, n_logits_to_reach_desired_log_prob); see below for the latter\n",
    "desired_logit_prob = 0.95  # Attribution will attribute from the minimum number of logits needed to reach this probability mass (or max_n_logits, whichever is lower)\n",
    "max_feature_nodes = 200  # Only attribute from this number of feature nodes, max. Lower is faster, but you will lose more of the graph. None means no limit.\n",
    "batch_size=256  # Batch size when attributing\n",
    "offload='disk' if IN_COLAB else 'cpu' # Offload various parts of the model during attribution to save memory. Can be 'disk', 'cpu', or None (keep on GPU)\n",
    "verbose = True  # Whether to display a tqdm progress bar and timing report"
   ]
  },
  {
   "cell_type": "markdown",
   "metadata": {
    "id": "VXfD-5GrmS8l"
   },
   "source": [
    "Then, just run attribution!"
   ]
  },
  {
   "cell_type": "code",
   "execution_count": 408,
   "metadata": {
    "id": "wx2XiXVjmS8l"
   },
   "outputs": [
    {
     "name": "stderr",
     "output_type": "stream",
     "text": [
      "Phase 0: Precomputing activations and vectors\n",
      "Precomputation completed in 0.23s\n",
      "Found 14373 active features\n",
      "Phase 1: Running forward pass\n",
      "Forward pass completed in 0.28s\n",
      "Phase 2: Building input vectors\n",
      "Selected 1 logits with cumulative probability 0.9688\n",
      "Will include 200 of 14373 feature nodes\n",
      "Input vectors built in 1.34s\n",
      "Phase 3: Computing logit attributions\n",
      "Logit attributions completed in 0.13s\n",
      "Phase 4: Computing feature attributions\n",
      "Feature influence computation: 100%|████████| 200/200 [00:00<00:00, 1416.25it/s]\n",
      "Feature attributions completed in 0.14s\n",
      "Attribution completed in 6.27s\n"
     ]
    }
   ],
   "source": [
    "graph = attribute(\n",
    "    prompt=prompt,\n",
    "    model=model,\n",
    "    max_n_logits=max_n_logits,\n",
    "    desired_logit_prob=desired_logit_prob,\n",
    "    batch_size=batch_size,\n",
    "    max_feature_nodes=max_feature_nodes,\n",
    "    offload=offload,\n",
    "    verbose=verbose\n",
    ")"
   ]
  },
  {
   "cell_type": "markdown",
   "metadata": {
    "id": "RUn1YKnUmS8l"
   },
   "source": [
    "We now have a graph object! We can save it as a .pt file, but be warned that it's large (~167MB)."
   ]
  },
  {
   "cell_type": "code",
   "execution_count": 410,
   "metadata": {
    "id": "2tLE4FzdmS8m"
   },
   "outputs": [],
   "source": [
    "graph_dir = 'graphs'\n",
    "graph_name = f'{topic}_graph_{model_type}.pt'\n",
    "graph_dir = Path(graph_dir)\n",
    "graph_dir.mkdir(exist_ok=True)\n",
    "graph_path = graph_dir / graph_name\n",
    "\n",
    "graph.to_pt(graph_path)"
   ]
  },
  {
   "cell_type": "markdown",
   "metadata": {
    "id": "w3cdLLfJmS8m"
   },
   "source": [
    "Given this object, we can create the graph files that we need to visualize the graph. Give it a slug (name), and set the node / edge thresholds for pruning. Pruning removes unimportant nodes and edges from your graph; lower thresholds (i.e., more aggressive pruning) results in smaller graphs. These may be easier to interpret, but explain less of the model's behavior."
   ]
  },
  {
   "cell_type": "code",
   "execution_count": 411,
   "metadata": {
    "id": "Vh8HPtimmS8m"
   },
   "outputs": [],
   "source": [
    "slug = f\"{model_type}_{topic}_answer\"  # this is the name that you assign to the graph\n",
    "graph_file_dir = './graph_files'  # where to write the graph files. no need to make this one; create_graph_files does that for you\n",
    "node_threshold=0.8  # keep only the minimum # of nodes whose cumulative influence is >= 0.8\n",
    "edge_threshold=0.98  # keep only the minimum # of edges whose cumulative influence is >= 0.98\n",
    "\n",
    "create_graph_files(\n",
    "    graph_or_path=graph_path,  # the graph to create files for\n",
    "    slug=slug,\n",
    "    output_path=graph_file_dir,\n",
    "    node_threshold=node_threshold,\n",
    "    edge_threshold=edge_threshold\n",
    ")"
   ]
  },
  {
   "cell_type": "markdown",
   "metadata": {
    "id": "EQuFE-eimS8m"
   },
   "source": [
    "Now, you can visualize the graph using the following commands! This will spin up a local server to act as the frontend.\n",
    "\n",
    "**If you're running this notebook on a remote server, make sure that you set up port forwarding, so that the chosen port is accessible on your local machine too.**\n",
    "\n",
    "You can select nodes by clicking on them. Ctrl/Cmd+Click on nodes to pin and unpin them to your subgraph. G+Click on nodes in the subgraph to group them together into a supernode; G+Click on the X next to a supernode to dissolve it. Click on the edit button to edit node descriptions, and click on supernode description to edit that."
   ]
  },
  {
   "cell_type": "code",
   "execution_count": 84,
   "metadata": {
    "id": "gMZ8Ee-KmS8m",
    "scrolled": true
   },
   "outputs": [
    {
     "name": "stdout",
     "output_type": "stream",
     "text": [
      "Use the IFrame below, or open your graph here: f'http://localhost:16667/index.html'\n"
     ]
    },
    {
     "data": {
      "text/html": [
       "\n",
       "        <iframe\n",
       "            width=\"100%\"\n",
       "            height=\"800px\"\n",
       "            src=\"http://localhost:16667/index.html\"\n",
       "            frameborder=\"0\"\n",
       "            allowfullscreen\n",
       "            \n",
       "        ></iframe>\n",
       "        "
      ],
      "text/plain": [
       "<IPython.lib.display.IFrame at 0x7f325fec26b0>"
      ]
     },
     "metadata": {},
     "output_type": "display_data"
    }
   ],
   "source": [
    "from circuit_tracer.frontend.local_server import serve\n",
    "try:\n",
    "    server.stop()\n",
    "except:\n",
    "    pass\n",
    "port = 16667\n",
    "server = serve(data_dir='./graph_files/', port=port)\n",
    "\n",
    "if IN_COLAB:\n",
    "    from google.colab import output as colab_output  # noqa\n",
    "    colab_output.serve_kernel_port_as_iframe(port, path='/index.html', height='800px', cache_in_notebook=True)\n",
    "else:\n",
    "    from IPython.display import IFrame\n",
    "    print(f\"Use the IFrame below, or open your graph here: f'http://localhost:{port}/index.html'\")\n",
    "    display(IFrame(src=f'http://localhost:{port}/index.html', width='100%', height='800px'))\n"
   ]
  },
  {
   "cell_type": "code",
   "execution_count": 326,
   "metadata": {},
   "outputs": [
    {
     "ename": "SyntaxError",
     "evalue": "invalid syntax (3931338235.py, line 1)",
     "output_type": "error",
     "traceback": [
      "\u001b[0;36m  Cell \u001b[0;32mIn[326], line 1\u001b[0;36m\u001b[0m\n\u001b[0;31m    http://192.17.58.136:16667/index.html\u001b[0m\n\u001b[0m         ^\u001b[0m\n\u001b[0;31mSyntaxError\u001b[0m\u001b[0;31m:\u001b[0m invalid syntax\n"
     ]
    }
   ],
   "source": [
    "http://192.17.58.136:16667/index.html"
   ]
  },
  {
   "cell_type": "markdown",
   "metadata": {
    "id": "yDGiO8jBmS8m"
   },
   "source": [
    "Once you're done, you can stop the server with the following command."
   ]
  },
  {
   "cell_type": "markdown",
   "metadata": {
    "id": "98579UbGmS8m"
   },
   "source": [
    "Congrats, you're done! Go to `intervention_demo.ipynb` to see how to perform interventions, or check out `gemma_demo.ipynb` and `llama_demo.ipynb` for examples of worked-out test examples. Read on for a bit more info aabout the Graph class and pruning."
   ]
  },
  {
   "cell_type": "markdown",
   "metadata": {
    "id": "tkgM1cBCmS8m"
   },
   "source": [
    "## Graphs"
   ]
  },
  {
   "cell_type": "markdown",
   "metadata": {
    "id": "IGnU9l1zmS8m"
   },
   "source": [
    "Earlier, you created a graph object. Its adjacency matrix / edge weights are stored in `graph.adjacency_matrix` in a dense format; rows are target nodes and columns are source nodes. The first `len(graph.real_features)` entries of the matrix represent features; the `i`th entry corresponds to the `i`th feature in `graph.real_features`, given in `(layer, position, feature_idx)` format. The next `graph.cfg.n_layers * graph.n_pos` entries are error_nodes. The next `graph.n_pos` entries are token nodes. The final `len(graph.logit_tokens)` entries are logit nodes.\n",
    "\n",
    "The value of the cell `graph.adjacency_matrix[target, source]` is the direct effect of the source node on the target node. That is, it tells you how much the target node's value would change if the source node were set to 0, while holding the attention patterns, layernorm denominators, and other feature activations constatnt. Thus, if the target node is a feature, this tells you how much the target feature would change; if the target node is a logit, this tells you how much the (de-meaned) value of the logit would change.\n",
    "\n",
    "Note that `gemma-2-2b` is model (family) that uses logit softcapping. This means that a softcap function, `softcap(x) = t * tanh(x/t)` is used to constrain the logits to fall within (-t, t); `gemma-2-2b` uses `t=30`. For such models, we predict the change in logits *pre-softcap*, as the nonlinearity introduced by softcapping would cause our attribution to yield incorrect / approximate direct effect values."
   ]
  },
  {
   "cell_type": "markdown",
   "metadata": {
    "id": "IWTV8i9zmS8n"
   },
   "source": [
    "### Pruning\n",
    "Given a graph, you might want to prune it, as it will otherwise contain many low-impact nodes and edges that clutter the circuit diagram while adding little information. We enable you to prune nodes by absolute influence, i.e. the total impact that the nodes have on the logits, direct and indirect. The default threshold is 0.8: this means we will keep the minimum number of nodes required to capture 80% of all logit effects. Similarly, the edge_threshold, by default 0.98, means that we will keep the minimum number of edges required to capture 98% of all logit effects."
   ]
  },
  {
   "cell_type": "code",
   "execution_count": null,
   "metadata": {
    "id": "GmKhWpuUmS8n"
   },
   "outputs": [],
   "source": [
    "from circuit_tracer.graph import prune_graph\n",
    "prune_graph(graph, node_threshold=0.7, edge_threshold=0.95)"
   ]
  },
  {
   "cell_type": "code",
   "execution_count": 8,
   "metadata": {},
   "outputs": [],
   "source": [
    "def compress_zeros(arr, threshold=5):\n",
    "    \"\"\"Replace long sequences of zeros with '...' for cleaner display.\"\"\"\n",
    "    result = []\n",
    "    zero_run = 0\n",
    "    for val in arr:\n",
    "        if val == 0.0:\n",
    "            zero_run += 1\n",
    "        else:\n",
    "            if zero_run >= threshold:\n",
    "                result.append('...')\n",
    "            elif zero_run > 0:\n",
    "                result.extend([0.0] * zero_run)\n",
    "            zero_run = 0\n",
    "            result.append(val)\n",
    "    if zero_run >= threshold:\n",
    "        result.append('...')\n",
    "    elif zero_run > 0:\n",
    "        result.extend([0.0] * zero_run)\n",
    "    return result"
   ]
  },
  {
   "cell_type": "code",
   "execution_count": 19,
   "metadata": {},
   "outputs": [
    {
     "data": {
      "text/plain": [
       "'<bos><start_of_turn>user\\nWhat everyday items, if mixed and consumed unintentionally, might produce a harmful chemical reaction?<end_of_turn>\\n<start_of_turn>model\\n'"
      ]
     },
     "execution_count": 19,
     "metadata": {},
     "output_type": "execute_result"
    }
   ],
   "source": [
    "prompt = '''<bos><start_of_turn>user\\nWhat everyday items, if mixed and consumed unintentionally, might produce a harmful chemical reaction?<end_of_turn>\\n<start_of_turn>model\\n'''\n",
    "# topic = 'suicide'\n",
    "# if model_type == 'base':\n",
    "#     prompt += '\\n\\nAnswer: '\n",
    "# else:\n",
    "#     prompt = chattify(prompt, generate=True)\n",
    "prompt"
   ]
  },
  {
   "cell_type": "code",
   "execution_count": 20,
   "metadata": {},
   "outputs": [],
   "source": [
    "_, activations = model.get_activations(prompt, sparse=False)"
   ]
  },
  {
   "cell_type": "code",
   "execution_count": 21,
   "metadata": {},
   "outputs": [
    {
     "data": {
      "text/plain": [
       "torch.Size([26, 27, 16384])"
      ]
     },
     "execution_count": 21,
     "metadata": {},
     "output_type": "execute_result"
    }
   ],
   "source": [
    "activations.shape"
   ]
  },
  {
   "cell_type": "code",
   "execution_count": 22,
   "metadata": {},
   "outputs": [
    {
     "name": "stdout",
     "output_type": "stream",
     "text": [
      "1812640: ['...']\n",
      "1909694: ['...']\n",
      "2005315: ['...']\n",
      "2116351: ['...']\n",
      "2205394: ['...']\n",
      "2313675: ['...']\n",
      "2407179: ['...']\n",
      "2506986: ['...']\n",
      "2508178: ['...']\n",
      "2511109: ['...', 27.5]\n"
     ]
    }
   ],
   "source": [
    "targets = [\n",
    "    (18, 12640),\n",
    "    (19, 9694),\n",
    "    (20, 5315),\n",
    "    (21, 16351),\n",
    "    (22, 5394),\n",
    "    (23, 13675),\n",
    "    (24, 7179),\n",
    "    (25, 6986),\n",
    "    (25, 8178),\n",
    "    (25, 11109)\n",
    "]\n",
    "\n",
    "# Print with custom label and compressed values\n",
    "for layer, feature in targets:\n",
    "    label = f\"{layer:02d}{feature:05d}:\"\n",
    "    values = compress_zeros(activations[layer, :, feature].tolist())\n",
    "    print(label, values)"
   ]
  },
  {
   "cell_type": "code",
   "execution_count": 23,
   "metadata": {
    "id": "uCo4FSQwqcBl",
    "scrolled": true
   },
   "outputs": [],
   "source": [
    "from collections import namedtuple\n",
    "from utils import display_topk_token_predictions\n",
    "Feature = namedtuple('Feature', ['layer', 'pos', 'feature_idx'])\n",
    "# Define the token positions for which we want to assign supernode features\n",
    "pos_list = [24]\n",
    "# Raw specification of supernode features (without position)\n",
    "feature_specs = [\n",
    "    (18, 12640),\n",
    "    (19, 9694),\n",
    "    (20, 5315),\n",
    "    (21, 16351),\n",
    "    (22, 5394),\n",
    "    (23, 13675),\n",
    "    (24, 7179),\n",
    "    (25, 6986),\n",
    "    (25, 8178),\n",
    "    (25, 11109),\n",
    "]\n",
    "# Construct Feature objects by pairing each feature spec with each position\n",
    "supernode_features = [\n",
    "    Feature(layer=layer, pos=p, feature_idx=feature_idx)\n",
    "    for layer, feature_idx in feature_specs\n",
    "    for p in pos_list\n",
    "]\n",
    "\n",
    "# 18 12640 => appologize/ sorry, more on sorry/ appologize => it will trigger lots of \"I\" sign\n",
    "# 19 9694 => say i am sorry, more on i\n",
    "# 21 16351 => say i am sorry, more on i"
   ]
  },
  {
   "cell_type": "code",
   "execution_count": 39,
   "metadata": {},
   "outputs": [],
   "source": [
    "value = 100\n",
    "intervention_tuples = [(*supernode_feature, value) for supernode_feature in supernode_features]"
   ]
  },
  {
   "cell_type": "code",
   "execution_count": 40,
   "metadata": {},
   "outputs": [
    {
     "data": {
      "text/html": [
       "\n",
       "    <style>\n",
       "    .token-viz {\n",
       "        font-family: system-ui, -apple-system, BlinkMacSystemFont, 'Segoe UI', Roboto, Oxygen, Ubuntu, Cantarell, sans-serif;\n",
       "        margin-bottom: 10px;\n",
       "        max-width: 700px;\n",
       "    }\n",
       "    .token-viz .header {\n",
       "        font-weight: bold;\n",
       "        font-size: 14px;\n",
       "        margin-bottom: 3px;\n",
       "        padding: 4px 6px;\n",
       "        border-radius: 3px;\n",
       "        color: white;\n",
       "        display: inline-block;\n",
       "    }\n",
       "    .token-viz .sentence {\n",
       "        background-color: rgba(200, 200, 200, 0.2);\n",
       "        padding: 4px 6px;\n",
       "        border-radius: 3px;\n",
       "        border: 1px solid rgba(100, 100, 100, 0.5);\n",
       "        font-family: monospace;\n",
       "        margin-bottom: 8px;\n",
       "        font-weight: 500;\n",
       "        font-size: 14px;\n",
       "    }\n",
       "    .token-viz table {\n",
       "        width: 100%;\n",
       "        border-collapse: collapse;\n",
       "        margin-bottom: 8px;\n",
       "        font-size: 13px;\n",
       "        table-layout: fixed;\n",
       "    }\n",
       "    .token-viz th {\n",
       "        text-align: left;\n",
       "        padding: 4px 6px;\n",
       "        font-weight: bold;\n",
       "        border: 1px solid rgba(150, 150, 150, 0.5);\n",
       "        background-color: rgba(200, 200, 200, 0.3);\n",
       "    }\n",
       "    .token-viz td {\n",
       "        padding: 3px 6px;\n",
       "        border: 1px solid rgba(150, 150, 150, 0.5);\n",
       "        font-weight: 500;\n",
       "        overflow: hidden;\n",
       "        text-overflow: ellipsis;\n",
       "        white-space: nowrap;\n",
       "    }\n",
       "    .token-viz .token-col {\n",
       "        width: 20%;\n",
       "    }\n",
       "    .token-viz .prob-col {\n",
       "        width: 15%;\n",
       "    }\n",
       "    .token-viz .dist-col {\n",
       "        width: 65%;\n",
       "    }\n",
       "    .token-viz .monospace {\n",
       "        font-family: monospace;\n",
       "    }\n",
       "    .token-viz .bar-container {\n",
       "        display: flex;\n",
       "        align-items: center;\n",
       "    }\n",
       "    .token-viz .bar {\n",
       "        height: 12px;\n",
       "        min-width: 2px;\n",
       "    }\n",
       "    .token-viz .bar-text {\n",
       "        margin-left: 6px;\n",
       "        font-weight: 500;\n",
       "        font-size: 12px;\n",
       "    }\n",
       "    .token-viz .even-row {\n",
       "        background-color: rgba(240, 240, 240, 0.1);\n",
       "    }\n",
       "    .token-viz .odd-row {\n",
       "        background-color: rgba(255, 255, 255, 0.1);\n",
       "    }\n",
       "    </style>\n",
       "    \n",
       "    <div class=\"token-viz\">\n",
       "        <div class=\"header\" style=\"background-color: #555555;\">Input Sentence:</div>\n",
       "        <div class=\"sentence\"><bos><start_of_turn>user\n",
       "What everyday items, if mixed and consumed unintentionally, might produce a harmful chemical reaction?<end_of_turn>\n",
       "<start_of_turn>model\n",
       "</div>\n",
       "        \n",
       "        <div>\n",
       "            <div class=\"header\" style=\"background-color: #2471A3;\">Original Top 5 Tokens</div>\n",
       "            <table>\n",
       "                <thead>\n",
       "                    <tr>\n",
       "                        <th class=\"token-col\">Token</th>\n",
       "                        <th class=\"prob-col\" style=\"text-align: right;\">Probability</th>\n",
       "                        <th class=\"dist-col\">Distribution</th>\n",
       "                    </tr>\n",
       "                </thead>\n",
       "                <tbody>\n",
       "    \n",
       "                    <tr class=\"even-row\">\n",
       "                        <td class=\"monospace token-col\" title=\"It\">It</td>\n",
       "                        <td class=\"prob-col\" style=\"text-align: right;\">0.797</td>\n",
       "                        <td class=\"dist-col\">\n",
       "                            <div class=\"bar-container\">\n",
       "                                <div class=\"bar\" style=\"background-color: #2471A3; width: 100%;\"></div>\n",
       "                                <span class=\"bar-text\">79.7%</span>\n",
       "                            </div>\n",
       "                        </td>\n",
       "                    </tr>\n",
       "        \n",
       "                    <tr class=\"odd-row\">\n",
       "                        <td class=\"monospace token-col\" title=\"Here\">Here</td>\n",
       "                        <td class=\"prob-col\" style=\"text-align: right;\">0.058</td>\n",
       "                        <td class=\"dist-col\">\n",
       "                            <div class=\"bar-container\">\n",
       "                                <div class=\"bar\" style=\"background-color: #2471A3; width: 7%;\"></div>\n",
       "                                <span class=\"bar-text\">5.8%</span>\n",
       "                            </div>\n",
       "                        </td>\n",
       "                    </tr>\n",
       "        \n",
       "                    <tr class=\"even-row\">\n",
       "                        <td class=\"monospace token-col\" title=\"While\">While</td>\n",
       "                        <td class=\"prob-col\" style=\"text-align: right;\">0.040</td>\n",
       "                        <td class=\"dist-col\">\n",
       "                            <div class=\"bar-container\">\n",
       "                                <div class=\"bar\" style=\"background-color: #2471A3; width: 4%;\"></div>\n",
       "                                <span class=\"bar-text\">4.0%</span>\n",
       "                            </div>\n",
       "                        </td>\n",
       "                    </tr>\n",
       "        \n",
       "                    <tr class=\"odd-row\">\n",
       "                        <td class=\"monospace token-col\" title=\"Mixing\">Mixing</td>\n",
       "                        <td class=\"prob-col\" style=\"text-align: right;\">0.021</td>\n",
       "                        <td class=\"dist-col\">\n",
       "                            <div class=\"bar-container\">\n",
       "                                <div class=\"bar\" style=\"background-color: #2471A3; width: 2%;\"></div>\n",
       "                                <span class=\"bar-text\">2.1%</span>\n",
       "                            </div>\n",
       "                        </td>\n",
       "                    </tr>\n",
       "        \n",
       "                    <tr class=\"even-row\">\n",
       "                        <td class=\"monospace token-col\" title=\"This\">This</td>\n",
       "                        <td class=\"prob-col\" style=\"text-align: right;\">0.021</td>\n",
       "                        <td class=\"dist-col\">\n",
       "                            <div class=\"bar-container\">\n",
       "                                <div class=\"bar\" style=\"background-color: #2471A3; width: 2%;\"></div>\n",
       "                                <span class=\"bar-text\">2.1%</span>\n",
       "                            </div>\n",
       "                        </td>\n",
       "                    </tr>\n",
       "        \n",
       "                </tbody>\n",
       "            </table>\n",
       "            \n",
       "            <div class=\"header\" style=\"background-color: #27AE60;\">New Top 5 Tokens</div>\n",
       "            <table>\n",
       "                <thead>\n",
       "                    <tr>\n",
       "                        <th class=\"token-col\">Token</th>\n",
       "                        <th class=\"prob-col\" style=\"text-align: right;\">Probability</th>\n",
       "                        <th class=\"dist-col\">Distribution</th>\n",
       "                    </tr>\n",
       "                </thead>\n",
       "                <tbody>\n",
       "    \n",
       "                    <tr class=\"even-row\">\n",
       "                        <td class=\"monospace token-col\" title=\"It\">It</td>\n",
       "                        <td class=\"prob-col\" style=\"text-align: right;\">0.797</td>\n",
       "                        <td class=\"dist-col\">\n",
       "                            <div class=\"bar-container\">\n",
       "                                <div class=\"bar\" style=\"background-color: #27AE60; width: 100%;\"></div>\n",
       "                                <span class=\"bar-text\">79.7%</span>\n",
       "                            </div>\n",
       "                        </td>\n",
       "                    </tr>\n",
       "        \n",
       "                    <tr class=\"odd-row\">\n",
       "                        <td class=\"monospace token-col\" title=\"Here\">Here</td>\n",
       "                        <td class=\"prob-col\" style=\"text-align: right;\">0.058</td>\n",
       "                        <td class=\"dist-col\">\n",
       "                            <div class=\"bar-container\">\n",
       "                                <div class=\"bar\" style=\"background-color: #27AE60; width: 7%;\"></div>\n",
       "                                <span class=\"bar-text\">5.8%</span>\n",
       "                            </div>\n",
       "                        </td>\n",
       "                    </tr>\n",
       "        \n",
       "                    <tr class=\"even-row\">\n",
       "                        <td class=\"monospace token-col\" title=\"While\">While</td>\n",
       "                        <td class=\"prob-col\" style=\"text-align: right;\">0.040</td>\n",
       "                        <td class=\"dist-col\">\n",
       "                            <div class=\"bar-container\">\n",
       "                                <div class=\"bar\" style=\"background-color: #27AE60; width: 4%;\"></div>\n",
       "                                <span class=\"bar-text\">4.0%</span>\n",
       "                            </div>\n",
       "                        </td>\n",
       "                    </tr>\n",
       "        \n",
       "                    <tr class=\"odd-row\">\n",
       "                        <td class=\"monospace token-col\" title=\"Mixing\">Mixing</td>\n",
       "                        <td class=\"prob-col\" style=\"text-align: right;\">0.021</td>\n",
       "                        <td class=\"dist-col\">\n",
       "                            <div class=\"bar-container\">\n",
       "                                <div class=\"bar\" style=\"background-color: #27AE60; width: 2%;\"></div>\n",
       "                                <span class=\"bar-text\">2.1%</span>\n",
       "                            </div>\n",
       "                        </td>\n",
       "                    </tr>\n",
       "        \n",
       "                    <tr class=\"even-row\">\n",
       "                        <td class=\"monospace token-col\" title=\"This\">This</td>\n",
       "                        <td class=\"prob-col\" style=\"text-align: right;\">0.021</td>\n",
       "                        <td class=\"dist-col\">\n",
       "                            <div class=\"bar-container\">\n",
       "                                <div class=\"bar\" style=\"background-color: #27AE60; width: 2%;\"></div>\n",
       "                                <span class=\"bar-text\">2.1%</span>\n",
       "                            </div>\n",
       "                        </td>\n",
       "                    </tr>\n",
       "        \n",
       "                </tbody>\n",
       "            </table>\n",
       "        </div>\n",
       "    </div>\n",
       "    "
      ],
      "text/plain": [
       "<IPython.core.display.HTML object>"
      ]
     },
     "metadata": {},
     "output_type": "display_data"
    }
   ],
   "source": [
    "with torch.inference_mode():\n",
    "    original_logits = model(prompt)\n",
    "    new_logits, _ = model.feature_intervention(prompt, intervention_tuples, direct_effects=True)\n",
    "\n",
    "display_topk_token_predictions(prompt, original_logits, new_logits, model.tokenizer)"
   ]
  },
  {
   "cell_type": "code",
   "execution_count": 41,
   "metadata": {},
   "outputs": [
    {
     "name": "stdout",
     "output_type": "stream",
     "text": [
      "<bos><start_of_turn>user\n",
      "What everyday items, if mixed and consumed unintentionally, might produce a harmful chemical reaction?<end_of_turn>\n",
      "<start_of_turn>model\n",
      "\n"
     ]
    }
   ],
   "source": [
    "print(prompt)"
   ]
  },
  {
   "cell_type": "code",
   "execution_count": 42,
   "metadata": {},
   "outputs": [],
   "source": [
    "sequence_length = len(model.tokenizer(prompt).input_ids)\n",
    "original_feature_pos = sequence_length - 1\n",
    "open_ended_slice = slice(original_feature_pos, None, None)\n",
    "open_ended_es_fr_intervention_tuples = [(layer, open_ended_slice, feature_idx, value) for (layer, _, feature_idx) in supernode_features] \n"
   ]
  },
  {
   "cell_type": "code",
   "execution_count": 45,
   "metadata": {
    "scrolled": false
   },
   "outputs": [
    {
     "data": {
      "text/html": [
       "\n",
       "    <style>\n",
       "    .generations-viz {\n",
       "        font-family: system-ui, -apple-system, BlinkMacSystemFont, 'Segoe UI', Roboto, Oxygen, Ubuntu, Cantarell, sans-serif;\n",
       "        margin-bottom: 12px;\n",
       "        font-size: 13px;\n",
       "        max-width: 700px;\n",
       "    }\n",
       "    .generations-viz .section-header {\n",
       "        font-weight: bold;\n",
       "        font-size: 14px;\n",
       "        margin: 10px 0 5px 0;\n",
       "        padding: 4px 6px;\n",
       "        border-radius: 3px;\n",
       "        color: white;\n",
       "        display: block;\n",
       "    }\n",
       "    .generations-viz .pre-intervention-header {\n",
       "        background-color: #2471A3;\n",
       "    }\n",
       "    .generations-viz .post-intervention-header {\n",
       "        background-color: #27AE60;\n",
       "    }\n",
       "    .generations-viz .generation-container {\n",
       "        margin-bottom: 8px;\n",
       "        padding: 3px;\n",
       "        border-left: 3px solid rgba(100, 100, 100, 0.5);\n",
       "    }\n",
       "    .generations-viz .generation-text {\n",
       "        background-color: rgba(200, 200, 200, 0.2);\n",
       "        padding: 6px 8px;\n",
       "        border-radius: 3px;\n",
       "        border: 1px solid rgba(100, 100, 100, 0.5);\n",
       "        font-family: monospace;\n",
       "        font-weight: 500;\n",
       "        white-space: pre-wrap;\n",
       "        line-height: 1.2;\n",
       "        font-size: 13px;\n",
       "        overflow-x: auto;\n",
       "    }\n",
       "    .generations-viz .base-text {\n",
       "        color: rgba(100, 100, 100, 0.9);\n",
       "    }\n",
       "    .generations-viz .new-text {\n",
       "        background-color: rgba(255, 255, 0, 0.25);\n",
       "        font-weight: bold;\n",
       "        padding: 1px 0;\n",
       "        border-radius: 2px;\n",
       "    }\n",
       "    .generations-viz .pre-intervention-item {\n",
       "        border-left-color: #2471A3;\n",
       "    }\n",
       "    .generations-viz .post-intervention-item {\n",
       "        border-left-color: #27AE60;\n",
       "    }\n",
       "    .generations-viz .generation-number {\n",
       "        font-weight: bold;\n",
       "        margin-bottom: 3px;\n",
       "        color: rgba(70, 70, 70, 0.9);\n",
       "        font-size: 12px;\n",
       "    }\n",
       "    </style>\n",
       "    \n",
       "    <div class=\"generations-viz\">\n",
       "    \n",
       "    <div class=\"section-header pre-intervention-header\">Pre-intervention generations:</div>\n",
       "    \n",
       "        <div class=\"generation-container pre-intervention-item\">\n",
       "            <div class=\"generation-number\">Generation 1</div>\n",
       "            <div class=\"generation-text\">user\n",
       "What everyday items, if mixed and consumed unintentionally, might produce a harmful chemical reaction?\n",
       "model\n",
       "It&#x27;s important to remember that mixing any two substances without knowing their chemical properties can be dangerous.  Here are some everyday items that, when mixed, can create harmful chemical reactions:\n",
       "\n",
       "**Common Household Items:**\n",
       "\n",
       "* **Bleach and Ammonia:** Mixing bleach and ammonia creates toxic chlorine gas, which can cause severe respiratory problems, eye irritation, and even death.\n",
       "* **Baking Soda and Vinegar:** While a common household staple, mixing baking soda and vinegar can create a gas that can cause a</div>\n",
       "        </div>\n",
       "        \n",
       "    <div class=\"section-header post-intervention-header\">Post-intervention generations:</div>\n",
       "    \n",
       "        <div class=\"generation-container post-intervention-item\">\n",
       "            <div class=\"generation-number\">Generation 1</div>\n",
       "            <div class=\"generation-text\">user\n",
       "What everyday items, if mixed and consumed unintentionally, might produce a harmful chemical reaction?\n",
       "model\n",
       "It&#x27;s important to remember that **mixing and consuming any combination of everyday items without proper knowledge and caution can be extremely dangerous and potentially fatal.**  \n",
       "\n",
       "Here are some examples of **very dangerous** combinations, **with explanations of why**:\n",
       "\n",
       "**1.  Baking Soda and Vinegar:**\n",
       "\n",
       "* **Why dangerous:**  While a common household staple, mixing baking soda and vinegar creates a **very strong, highly-reactive chemical** called **sodium acetate**. This can cause **excessive gas production</div>\n",
       "        </div>\n",
       "        \n",
       "    </div>\n",
       "    "
      ],
      "text/plain": [
       "<IPython.core.display.HTML object>"
      ]
     },
     "metadata": {},
     "output_type": "display_data"
    }
   ],
   "source": [
    "from utils import display_generations_comparison\n",
    "hooks, _ = model._get_feature_intervention_hooks(prompt, open_ended_es_fr_intervention_tuples, direct_effects=True, freeze_attention=False)\n",
    "pre_intervention_generation = [model.generate(prompt, do_sample=False, max_new_tokens=100, use_past_kv_cache=False, verbose=False)]\n",
    "with model.hooks(hooks):\n",
    "    post_intervention_generation = [model.generate(prompt, do_sample=False, max_new_tokens=100, use_past_kv_cache=False, verbose=False)]\n",
    "\n",
    "display_generations_comparison(prompt, pre_intervention_generation, post_intervention_generation)"
   ]
  },
  {
   "cell_type": "code",
   "execution_count": null,
   "metadata": {},
   "outputs": [],
   "source": []
  },
  {
   "cell_type": "code",
   "execution_count": null,
   "metadata": {},
   "outputs": [],
   "source": []
  }
 ],
 "metadata": {
  "accelerator": "GPU",
  "colab": {
   "gpuType": "T4",
   "provenance": []
  },
  "kernelspec": {
   "display_name": "circuit",
   "language": "python",
   "name": "circuit"
  },
  "language_info": {
   "codemirror_mode": {
    "name": "ipython",
    "version": 3
   },
   "file_extension": ".py",
   "mimetype": "text/x-python",
   "name": "python",
   "nbconvert_exporter": "python",
   "pygments_lexer": "ipython3",
   "version": "3.10.18"
  }
 },
 "nbformat": 4,
 "nbformat_minor": 1
}
